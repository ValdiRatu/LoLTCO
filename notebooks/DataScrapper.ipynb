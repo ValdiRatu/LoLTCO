{
 "cells": [
  {
   "cell_type": "code",
   "execution_count": 3,
   "metadata": {},
   "outputs": [
    {
     "ename": "ModuleNotFoundError",
     "evalue": "No module named 'cassiopeia'",
     "output_type": "error",
     "traceback": [
      "\u001b[1;31m---------------------------------------------------------------------------\u001b[0m",
      "\u001b[1;31mModuleNotFoundError\u001b[0m                       Traceback (most recent call last)",
      "Cell \u001b[1;32mIn[3], line 1\u001b[0m\n\u001b[1;32m----> 1\u001b[0m \u001b[39mimport\u001b[39;00m \u001b[39mcassiopeia\u001b[39;00m \u001b[39mas\u001b[39;00m \u001b[39mCass\u001b[39;00m\n\u001b[0;32m      2\u001b[0m \u001b[39mimport\u001b[39;00m \u001b[39mpickle\u001b[39;00m\n\u001b[0;32m      4\u001b[0m \u001b[39m# 1678233600 March 8, 2023\u001b[39;00m\n\u001b[0;32m      5\u001b[0m \u001b[39m# 1679443200 March 22, 2023\u001b[39;00m\n",
      "\u001b[1;31mModuleNotFoundError\u001b[0m: No module named 'cassiopeia'"
     ]
    }
   ],
   "source": [
    "import cassiopeia as Cass\n",
    "import pickle\n",
    "\n",
    "# 1678233600 March 8, 2023\n",
    "# 1679443200 March 22, 2023"
   ]
  },
  {
   "cell_type": "code",
   "execution_count": 8,
   "metadata": {},
   "outputs": [
    {
     "name": "stdout",
     "output_type": "stream",
     "text": [
      "Making call: https://americas.api.riotgames.com/lol/match/v5/matches/by-puuid/-OOS72mY0ALu6IcUb7ITUn3kRJBNFNMdw-4hlKwgauQ-xu7vJzZZ23mYZo8rBFRyqzR4WFmBvN4GEQ/ids?start=0&count=100&startTime=1678233600&endTime=1679443200&queue=420&type=ranked\n"
     ]
    },
    {
     "data": {
      "text/plain": [
       "71"
      ]
     },
     "execution_count": 8,
     "metadata": {},
     "output_type": "execute_result"
    }
   ],
   "source": [
    "test = Cass.get_match_history(\n",
    "      puuid = \"-OOS72mY0ALu6IcUb7ITUn3kRJBNFNMdw-4hlKwgauQ-xu7vJzZZ23mYZo8rBFRyqzR4WFmBvN4GEQ\",\n",
    "      continent = Cass.data.Continent.americas,\n",
    "      queue = Cass.data.Queue.ranked_solo_fives,\n",
    "      type = Cass.data.MatchType.ranked,\n",
    "      count = 100,\n",
    "      start_time = 1678233600,\n",
    "      end_time = 1679443200\n",
    "    )\n",
    "\n",
    "len(test)"
   ]
  },
  {
   "cell_type": "code",
   "execution_count": 20,
   "metadata": {},
   "outputs": [
    {
     "name": "stdout",
     "output_type": "stream",
     "text": [
      "Making call: https://americas.api.riotgames.com/lol/match/v5/matches/NA1_4607066189\n"
     ]
    },
    {
     "data": {
      "text/plain": [
       "[<cassiopeia.core.match.Participant at 0x1f772302c70>,\n",
       " <cassiopeia.core.match.Participant at 0x1f772b1c550>,\n",
       " <cassiopeia.core.match.Participant at 0x1f772b4c5b0>,\n",
       " <cassiopeia.core.match.Participant at 0x1f772b58070>,\n",
       " <cassiopeia.core.match.Participant at 0x1f772b580a0>,\n",
       " <cassiopeia.core.match.Participant at 0x1f772b58100>,\n",
       " <cassiopeia.core.match.Participant at 0x1f772b58160>,\n",
       " <cassiopeia.core.match.Participant at 0x1f772b581c0>,\n",
       " <cassiopeia.core.match.Participant at 0x1f772b58220>,\n",
       " <cassiopeia.core.match.Participant at 0x1f772b58280>]"
      ]
     },
     "execution_count": 20,
     "metadata": {},
     "output_type": "execute_result"
    }
   ],
   "source": [
    "match = Cass.get_match(id=4607066189, region=Cass.data.Region.north_america)\n",
    "\n",
    "match.participants\n"
   ]
  },
  {
   "cell_type": "code",
   "execution_count": 25,
   "metadata": {},
   "outputs": [
    {
     "data": {
      "text/plain": [
       "dict_keys(['type', 'gameDuration', 'duration', 'continent', 'tournamentCode', 'gameEndTimestamp', 'name', 'id', 'participants', 'queue', 'mode', 'platform', 'gameStartTimestamp', 'mapId', 'creation', 'gameCreation', 'privateGame', 'teams', 'matchId', 'start', 'version'])"
      ]
     },
     "execution_count": 25,
     "metadata": {},
     "output_type": "execute_result"
    }
   ],
   "source": [
    "match.to_dict().keys()"
   ]
  },
  {
   "cell_type": "code",
   "execution_count": null,
   "metadata": {},
   "outputs": [],
   "source": [
    "match_id = match_ids[1]\n",
    "platform, id = match_id.split(\"_\")\n",
    "if (platform == \"NA1\"):\n",
    "    region = Cass.data.Region.north_america\n",
    "elif (platform == \"EUW1\"):\n",
    "    region = Cass.data.Region.europe_west\n",
    "else: \n",
    "    region = Cass.data.Region.europe_north_east\n",
    "match = Cass.get_match(id=int(id), region=region)"
   ]
  },
  {
   "cell_type": "code",
   "execution_count": null,
   "metadata": {},
   "outputs": [],
   "source": [
    "test = match.to_json()\n",
    "test2 = match.participants"
   ]
  },
  {
   "cell_type": "code",
   "execution_count": 4,
   "metadata": {},
   "outputs": [],
   "source": [
    "import pickle\n",
    "with open(\"../data/match_data.pkl\", \"rb\") as f:\n",
    "  match_data = pickle.load(f)"
   ]
  },
  {
   "cell_type": "code",
   "execution_count": 4,
   "metadata": {},
   "outputs": [],
   "source": [
    "len(match_data)\n",
    "match_data_sub = match_data[5001:6000]\n",
    "with open(\"../data/match_data_subset_1k.pkl\", \"wb\") as f:\n",
    "  pickle.dump(match_data_sub, f)"
   ]
  },
  {
   "cell_type": "code",
   "execution_count": 13,
   "metadata": {},
   "outputs": [
    {
     "data": {
      "text/plain": [
       "98"
      ]
     },
     "execution_count": 13,
     "metadata": {},
     "output_type": "execute_result"
    }
   ],
   "source": [
    "import cassiopeia as Cass\n",
    "match_data_sub = match_data[0:100]\n",
    "\n",
    "team_a = match_data_sub[0]['teams'][0]\n",
    "team_a['side'] == Cass.data.Side.blue # get team side\n",
    "\n",
    "team_a.keys()\n",
    "team_a[\"participants\"]\n",
    "\n",
    "player_a = team_a[\"participants\"][0]\n",
    "player_a[\"teamPosition\"] # role\n",
    "player_a[\"championId\"] # champId\n",
    "\n",
    "# 163 champs\n",
    "# 5 roles per\n",
    "# 2 teams\n",
    "\n",
    "# one hot encoding - 815 features per team: 1630 total\n"
   ]
  }
 ],
 "metadata": {
  "kernelspec": {
   "display_name": "Python 3",
   "language": "python",
   "name": "python3"
  },
  "language_info": {
   "codemirror_mode": {
    "name": "ipython",
    "version": 3
   },
   "file_extension": ".py",
   "mimetype": "text/x-python",
   "name": "python",
   "nbconvert_exporter": "python",
   "pygments_lexer": "ipython3",
   "version": "3.8.3"
  },
  "orig_nbformat": 4
 },
 "nbformat": 4,
 "nbformat_minor": 2
}
