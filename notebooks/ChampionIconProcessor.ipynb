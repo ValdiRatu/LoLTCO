{
 "cells": [
  {
   "cell_type": "code",
   "execution_count": 7,
   "metadata": {},
   "outputs": [],
   "source": [
    "import os\n",
    "directory = \"../tiles\"\n",
    "\n",
    "for filename in os.listdir(directory):\n",
    "  if filename.endswith(\".jpg\"):\n",
    "    if filename.split(\"_\")[1] != \"0.jpg\":\n",
    "      filePath = os.path.join(directory, filename)\n",
    "      os.remove(filePath)"
   ]
  }
 ],
 "metadata": {
  "kernelspec": {
   "display_name": "Python 3",
   "language": "python",
   "name": "python3"
  },
  "language_info": {
   "codemirror_mode": {
    "name": "ipython",
    "version": 3
   },
   "file_extension": ".py",
   "mimetype": "text/x-python",
   "name": "python",
   "nbconvert_exporter": "python",
   "pygments_lexer": "ipython3",
   "version": "3.8.3"
  },
  "orig_nbformat": 4
 },
 "nbformat": 4,
 "nbformat_minor": 2
}
